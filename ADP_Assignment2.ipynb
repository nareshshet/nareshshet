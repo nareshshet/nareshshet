{
  "nbformat": 4,
  "nbformat_minor": 0,
  "metadata": {
    "colab": {
      "name": "ADP_Assignment2.ipynb",
      "provenance": [],
      "authorship_tag": "ABX9TyMBKwlsfATnYkrwAGEdmvyI",
      "include_colab_link": true
    },
    "kernelspec": {
      "name": "python3",
      "display_name": "Python 3"
    },
    "language_info": {
      "name": "python"
    }
  },
  "cells": [
    {
      "cell_type": "markdown",
      "metadata": {
        "id": "view-in-github",
        "colab_type": "text"
      },
      "source": [
        "<a href=\"https://colab.research.google.com/github/nareshshet/nareshshet/blob/main/ADP_Assignment2.ipynb\" target=\"_parent\"><img src=\"https://colab.research.google.com/assets/colab-badge.svg\" alt=\"Open In Colab\"/></a>"
      ]
    },
    {
      "cell_type": "code",
      "execution_count": 1,
      "metadata": {
        "colab": {
          "base_uri": "https://localhost:8080/"
        },
        "id": "4BJJpnzKS7U5",
        "outputId": "26fcf65c-86da-4d3b-dc04-3fe1a651df29"
      },
      "outputs": [
        {
          "output_type": "stream",
          "name": "stdout",
          "text": [
            "enter your choice A, B or C\n",
            "A\n",
            "Apples\n"
          ]
        }
      ],
      "source": [
        "#1\n",
        " \n",
        "try:\n",
        " choice=input(\"enter your choice A, B or C\\n\")\n",
        " if choice.upper()=='A':\n",
        "   print(\"Apples\")\n",
        " elif choice.upper()=='B':\n",
        "   print(\"Bananas\")\n",
        " elif choice.upper()=='C':\n",
        "   print(\"Coconuts\")\n",
        " else:\n",
        "   print(\"Input should be between A-C\")\n",
        "except:\n",
        "  print(\"Invalid input\")\n"
      ]
    },
    {
      "cell_type": "markdown",
      "source": [
        "2nd Program"
      ],
      "metadata": {
        "id": "Ujmg2mpETD3h"
      }
    },
    {
      "cell_type": "code",
      "source": [
        "#2\n",
        " \n",
        "try:\n",
        " credits=int(input(\"enter the college credits earned so far\\n\"))\n",
        " if credits>90 :\n",
        "   print(\"Senior status\")\n",
        "   breakpoint\n",
        " elif credits>60 :\n",
        "   print(\"Junior Status\")\n",
        "   breakpoint\n",
        " elif credits>30 :\n",
        "   print(\"Sophmore Status\")\n",
        "   breakpoint\n",
        " else:\n",
        "   print(\"Freshman status\")\n",
        "except:\n",
        "   print(\"Input invalid\")\n",
        "\n"
      ],
      "metadata": {
        "colab": {
          "base_uri": "https://localhost:8080/"
        },
        "id": "WxVbPT6JTInt",
        "outputId": "f59534b6-34b0-4479-a3ea-1d0ac2ce362e"
      },
      "execution_count": 2,
      "outputs": [
        {
          "output_type": "stream",
          "name": "stdout",
          "text": [
            "enter the college credits earned so far\n",
            "54\n",
            "Sophmore Status\n"
          ]
        }
      ]
    },
    {
      "cell_type": "markdown",
      "source": [
        "3rd Program"
      ],
      "metadata": {
        "id": "_DfxCmj-TRWW"
      }
    },
    {
      "cell_type": "code",
      "source": [
        "#3\n",
        " \n",
        "try:\n",
        "  days=['Sunday','Monday','Tuesday','Wednesday','Thursday','Friday','Saturday']\n",
        "  daynum=int(input(\"Enter the Day number if Sunday=0 and Saturday=6\\n\"))\n",
        "  if daynum>6 or daynum<0:\n",
        "    print (\"Input should be between 0-6\")\n",
        "  else:\n",
        "    print(f\"The day at {daynum} is {days[daynum]}\")\n",
        "except:\n",
        "  print(\"Invalid input\")"
      ],
      "metadata": {
        "colab": {
          "base_uri": "https://localhost:8080/"
        },
        "id": "0r93bdjOTXeu",
        "outputId": "d3a1819b-a5bc-44b7-cdaf-451c84ac67d9"
      },
      "execution_count": 4,
      "outputs": [
        {
          "output_type": "stream",
          "name": "stdout",
          "text": [
            "Enter the Day number if Sunday=0 and Saturday=6\n",
            "5\n",
            "The day at 5 is Friday\n"
          ]
        }
      ]
    },
    {
      "cell_type": "markdown",
      "source": [
        "4th Program"
      ],
      "metadata": {
        "id": "Xa-4PGNTTgBM"
      }
    },
    {
      "cell_type": "code",
      "source": [
        "#4\n",
        " \n",
        "s1='RVITM'\n",
        "s2=' is best!'\n",
        "s3= s1+' '+s2\n",
        "print(f\"The strings are initialised as follows:\\ns1={s1}\\ns2={s2}\\ns3={s3}\")\n",
        "\n"
      ],
      "metadata": {
        "colab": {
          "base_uri": "https://localhost:8080/"
        },
        "id": "1DI-uLFNTla8",
        "outputId": "9cb9d726-ee8b-4768-ecea-7e0c7a55351c"
      },
      "execution_count": 6,
      "outputs": [
        {
          "output_type": "stream",
          "name": "stdout",
          "text": [
            "The strings are initialised as follows:\n",
            "s1=RVITM\n",
            "s2= is best!\n",
            "s3=RVITM  is best!\n"
          ]
        }
      ]
    },
    {
      "cell_type": "code",
      "source": [
        "5th Program"
      ],
      "metadata": {
        "id": "VuZnBURZT03e"
      },
      "execution_count": null,
      "outputs": []
    },
    {
      "cell_type": "code",
      "source": [
        "#5\n",
        " \n",
        "try:\n",
        "  SampleString =input(\"enter the string\\n\")\n",
        "  freq = {}\n",
        "  \n",
        "  for i in SampleString.upper():\n",
        "       if i in freq:\n",
        "           freq[i] += 1\n",
        "       else:\n",
        "           freq[i] = 1\n",
        "  print(f\"Count of all characters in {SampleString} is :\\n \" +  str(freq))\n",
        "except:\n",
        "  print(\"Invalid input\")\n"
      ],
      "metadata": {
        "colab": {
          "base_uri": "https://localhost:8080/"
        },
        "id": "BGB27WgsT3kb",
        "outputId": "af3a3a2e-58b7-47f9-87c4-0abd511dab80"
      },
      "execution_count": 7,
      "outputs": [
        {
          "output_type": "stream",
          "name": "stdout",
          "text": [
            "enter the string\n",
            "naresh \n",
            "Count of all characters in naresh  is :\n",
            " {'N': 1, 'A': 1, 'R': 1, 'E': 1, 'S': 1, 'H': 1, ' ': 1}\n"
          ]
        }
      ]
    },
    {
      "cell_type": "code",
      "source": [
        "#6\n",
        " \n",
        "games=['CS','FIFA','Kabaddi','Hockey','Cricket']\n",
        "print(\"The top 3 games are:\\n\")\n",
        "print(\"Position\\tGames\\n\")\n",
        "i=0\n",
        " \n",
        "for i in range(0,3):\n",
        "    print(f\"{i+1}\\t\\t{games[i]}\")"
      ],
      "metadata": {
        "colab": {
          "base_uri": "https://localhost:8080/"
        },
        "id": "3l9IockoT-T-",
        "outputId": "af3616bf-720a-4fbb-f438-3bf0840a583b"
      },
      "execution_count": 8,
      "outputs": [
        {
          "output_type": "stream",
          "name": "stdout",
          "text": [
            "The top 3 games are:\n",
            "\n",
            "Position\tGames\n",
            "\n",
            "1\t\tCS\n",
            "2\t\tFIFA\n",
            "3\t\tKabaddi\n"
          ]
        }
      ]
    },
    {
      "cell_type": "code",
      "source": [
        "\n",
        "#7\n",
        " \n",
        "try:\n",
        "  Firstname=input(\"Enter your First Name\\n\")\n",
        "  Middlename=input(\"Enter your Middle Name\\n\")\n",
        "  Lastname=input(\"Enter your Last Name\\n\")\n",
        "  print (f\"Your name is {Firstname[0].upper()}.{Middlename[0].upper()}.{Lastname}\")\n",
        "except:\n",
        "   print(\"Invalid input\")\n"
      ],
      "metadata": {
        "colab": {
          "base_uri": "https://localhost:8080/"
        },
        "id": "LgCPprj8UB3z",
        "outputId": "b205940b-efcc-487b-9e0a-e1471b88aa7b"
      },
      "execution_count": 9,
      "outputs": [
        {
          "output_type": "stream",
          "name": "stdout",
          "text": [
            "Enter your First Name\n",
            "Naresh\n",
            "Enter your Middle Name\n",
            "Santosh \n",
            "Enter your Last Name\n",
            "Shet\n",
            "Your name is N.S.Shet\n"
          ]
        }
      ]
    },
    {
      "cell_type": "code",
      "source": [
        "#8\n",
        " \n",
        "import re\n",
        "samplestring=input(\"enter the string\\n\")\n",
        "vowelpat= re.compile('[aeiouAEIOU]')\n",
        "consonantpat=re.compile('[b-df-hj-np-tv-z]',re.IGNORECASE)\n",
        "digitpat=re.compile('\\d')\n",
        "spacepat=re.compile('\\s')\n",
        " \n",
        "print(f\"number of vowels are: {len(vowelpat.findall(samplestring))}\\n\")\n",
        "print(f\"number of consonants are: {len(consonantpat.findall(samplestring))}\\n\")\n",
        "print(f\"number of digits are: {len(digitpat.findall(samplestring))}\\n\")\n",
        "print(f\"number of spaces are: {len(spacepat.findall(samplestring))}\")\n",
        "\n"
      ],
      "metadata": {
        "colab": {
          "base_uri": "https://localhost:8080/"
        },
        "id": "mwaPuHOMUJjq",
        "outputId": "977fd0ec-e63c-454c-924a-fbb8adde1e10"
      },
      "execution_count": 10,
      "outputs": [
        {
          "output_type": "stream",
          "name": "stdout",
          "text": [
            "enter the string\n",
            "RVITMBlore\n",
            "number of vowels are: 3\n",
            "\n",
            "number of consonants are: 7\n",
            "\n",
            "number of digits are: 0\n",
            "\n",
            "number of spaces are: 0\n"
          ]
        }
      ]
    },
    {
      "cell_type": "code",
      "source": [
        "#9\n",
        " \n",
        "samplestring=input(\"enter the string\\n\")\n",
        "vowels=['a','A','e','E','i','I','o','O','u','U']\n",
        "Nocons=''\n",
        "consonly=''\n",
        "for i in samplestring:\n",
        " if i in vowels:\n",
        "   Nocons=Nocons+i\n",
        " else:\n",
        "   consonly=consonly+i\n",
        "print(f\"The string without the consonants is : {Nocons}\\nThe string with only the consonants is {consonly}\")\n",
        "\n",
        "\n"
      ],
      "metadata": {
        "colab": {
          "base_uri": "https://localhost:8080/"
        },
        "id": "JmCMeGWJUTk-",
        "outputId": "3a210c5e-1824-49fd-fdda-5c3b817ca0c7"
      },
      "execution_count": 11,
      "outputs": [
        {
          "output_type": "stream",
          "name": "stdout",
          "text": [
            "enter the string\n",
            "India is Great\n",
            "The string without the consonants is : Iiaiea\n",
            "The string with only the consonants is nd s Grt\n"
          ]
        }
      ]
    },
    {
      "cell_type": "code",
      "source": [
        "#10\n",
        " \n",
        "ids=[4353, 2314, 2956, 3382, 9362, 3900]\n",
        " \n",
        "ids.pop(3) #removing 3382\n",
        " \n",
        "j=0 #getting the index of 9362\n",
        "for i in ids:\n",
        "  if i!=9362:\n",
        "    j=j+1\n",
        "  else:\n",
        "    break\n",
        "print(f\"The index of 9362 is:{j}\")\n",
        " \n",
        "ids.insert(j+1,4499) #adding 4499 in index after 9362\n",
        " \n",
        "ids.append(5566) #appending 5566 and 1830\n",
        "ids.append(1830)\n",
        " \n",
        "ids.sort(reverse=1) #reverse sorting the list\n",
        " \n",
        "ids.sort() #sorting the list\n",
        "\n"
      ],
      "metadata": {
        "colab": {
          "base_uri": "https://localhost:8080/"
        },
        "id": "dJ29uX3FUcTH",
        "outputId": "bb27b0ec-19f7-4b45-a64c-7779fae3382c"
      },
      "execution_count": 12,
      "outputs": [
        {
          "output_type": "stream",
          "name": "stdout",
          "text": [
            "The index of 9362 is:3\n"
          ]
        }
      ]
    },
    {
      "cell_type": "code",
      "source": [
        "#11\n",
        " \n",
        "i=1\n",
        "while i<101:\n",
        "    print(i,end=' ')\n",
        "    while i%10==0:\n",
        "      print(\"\\n\")\n",
        "      i=i+1\n",
        "      if i!=101:\n",
        "       print(i,end=' ')\n",
        "    i=i+1\n",
        "\n",
        "\n",
        "\n",
        " \n",
        "\n"
      ],
      "metadata": {
        "colab": {
          "base_uri": "https://localhost:8080/"
        },
        "id": "ypKO7hjlUevM",
        "outputId": "d1a2c637-59f3-46e3-c11b-0e41b95ca9d1"
      },
      "execution_count": 13,
      "outputs": [
        {
          "output_type": "stream",
          "name": "stdout",
          "text": [
            "1 2 3 4 5 6 7 8 9 10 \n",
            "\n",
            "11 12 13 14 15 16 17 18 19 20 \n",
            "\n",
            "21 22 23 24 25 26 27 28 29 30 \n",
            "\n",
            "31 32 33 34 35 36 37 38 39 40 \n",
            "\n",
            "41 42 43 44 45 46 47 48 49 50 \n",
            "\n",
            "51 52 53 54 55 56 57 58 59 60 \n",
            "\n",
            "61 62 63 64 65 66 67 68 69 70 \n",
            "\n",
            "71 72 73 74 75 76 77 78 79 80 \n",
            "\n",
            "81 82 83 84 85 86 87 88 89 90 \n",
            "\n",
            "91 92 93 94 95 96 97 98 99 100 \n",
            "\n"
          ]
        }
      ]
    },
    {
      "cell_type": "code",
      "source": [
        "#12\n",
        " \n",
        "Num=int(input(\"enter the number of triangular nos needed\\n\"))\n",
        "def triangular(n) :\n",
        "   if Num==0 or Num<0:\n",
        "     print(\"Input number should be more than or equal to 1\")\n",
        "   elif Num==1:\n",
        "     trinum=1\n",
        "     print(f\"{i}\\t{trinum}\")\n",
        "   else:\n",
        "     i=1  \n",
        "     trinum=1\n",
        "     print(f\"The first {Num} triangular numbers are:\\n\")\n",
        "     print(f\"{i}\\t{trinum}\")\n",
        "     for i in range(2,Num+1):\n",
        "       trinum=trinum+i\n",
        "       print(f\"{i}\\t{trinum}\")\n",
        " \n",
        "triangular(Num)   \n",
        "\n"
      ],
      "metadata": {
        "colab": {
          "base_uri": "https://localhost:8080/"
        },
        "id": "d6ttyurqUrLc",
        "outputId": "660d9566-65bc-4266-bbff-0af85e351ac7"
      },
      "execution_count": 14,
      "outputs": [
        {
          "output_type": "stream",
          "name": "stdout",
          "text": [
            "enter the number of triangular nos needed\n",
            "14\n",
            "The first 14 triangular numbers are:\n",
            "\n",
            "1\t1\n",
            "2\t3\n",
            "3\t6\n",
            "4\t10\n",
            "5\t15\n",
            "6\t21\n",
            "7\t28\n",
            "8\t36\n",
            "9\t45\n",
            "10\t55\n",
            "11\t66\n",
            "12\t78\n",
            "13\t91\n",
            "14\t105\n"
          ]
        }
      ]
    }
  ]
}